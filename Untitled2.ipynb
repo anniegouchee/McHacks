{
 "cells": [
  {
   "cell_type": "code",
   "execution_count": 224,
   "id": "360c8504-1521-4ac3-8d0f-82bc262880c5",
   "metadata": {},
   "outputs": [],
   "source": [
    "import csv\n",
    "from bs4 import BeautifulSoup"
   ]
  },
  {
   "cell_type": "code",
   "execution_count": 225,
   "id": "80838675-bf33-48d8-9223-b881233e5935",
   "metadata": {},
   "outputs": [],
   "source": [
    "from selenium import webdriver"
   ]
  },
  {
   "cell_type": "code",
   "execution_count": 226,
   "id": "37f15085-f245-496e-bde9-d11b736dc9bb",
   "metadata": {},
   "outputs": [],
   "source": [
    "driver = webdriver.Chrome()"
   ]
  },
  {
   "cell_type": "code",
   "execution_count": 227,
   "id": "24269797-9507-4f9a-972c-e9714e773fce",
   "metadata": {},
   "outputs": [
    {
     "data": {
      "text/plain": [
       "'driver.get(url)'"
      ]
     },
     "execution_count": 227,
     "metadata": {},
     "output_type": "execute_result"
    }
   ],
   "source": [
    "url = 'https://www.metro.ca'\n",
    "\"\"\"driver.get(url)\"\"\""
   ]
  },
  {
   "cell_type": "code",
   "execution_count": 228,
   "id": "ffafe2db-5e75-4ba3-9f97-b54595007be6",
   "metadata": {},
   "outputs": [],
   "source": [
    "def get_url(search_term):\n",
    "    template = 'https://www.metro.ca/en/online-grocery/search?filter={}&freeText=true'\n",
    "    search_term = search_term.replace(' ', '+')\n",
    "    return template.format(search_term)"
   ]
  },
  {
   "cell_type": "code",
   "execution_count": 229,
   "id": "2dd7ebf5-e960-490d-a4af-9e8c389eee01",
   "metadata": {},
   "outputs": [
    {
     "name": "stdout",
     "output_type": "stream",
     "text": [
      "https://www.metro.ca/en/online-grocery/search?filter=apple&freeText=true\n"
     ]
    }
   ],
   "source": [
    "url = get_url('apple')\n",
    "print(url)\n",
    "driver.get(url)"
   ]
  },
  {
   "cell_type": "code",
   "execution_count": 500,
   "id": "38e38ae6-67b7-4c8c-ac30-41cbcbd72196",
   "metadata": {},
   "outputs": [],
   "source": [
    "soup = BeautifulSoup(driver.page_source, 'html.parser')"
   ]
  },
  {
   "cell_type": "code",
   "execution_count": 592,
   "id": "7fd7adaf-c2bf-4c76-8a85-6031927e5b6c",
   "metadata": {},
   "outputs": [],
   "source": [
    "results = soup.find_all('div', {'class' : 'default-product-tile'})"
   ]
  },
  {
   "cell_type": "code",
   "execution_count": 596,
   "id": "24230f34-ecc6-4ca6-9270-9bf0841f0e13",
   "metadata": {},
   "outputs": [
    {
     "name": "stdout",
     "output_type": "stream",
     "text": [
      "[['$0.75', 'Apple, McIntosh'], ['$1.42', 'Apple, Granny Smith'], ['$0.83', 'Apple, Cortland'], ['$0.66', 'Apple, Spartan'], ['$0.75', 'Apple, Empire'], ['$1.25', 'Apple, Red Delicious'], ['$1.15', 'Apple, Golden Delicious'], ['$1.02', 'Apple, Gala'], ['$6.99', 'Bag of Organic Apples, Gala'], ['$1.75', 'Apple Fruit and Nut Energy Bar'], ['$1.98', 'Apple'], ['$7.99', 'Bag of Mcintosh Apples'], ['$1.76', 'Apple, Honeycrisp'], ['$0.98', 'Apple'], ['$5.99', 'Bag of Apples, Granny Smith'], ['$5.99', 'Bag of Apples, Gala'], ['$5.99', 'Apple Trio'], ['$1.31', 'Organic Apple, Granny Smith'], ['$1.31', 'Organic Apple, Gala'], ['$6.99', 'Gala apples'], ['$4.99', 'Cortland Apples'], ['$5.99', 'Bag of Apples, Empire'], ['$6.99', 'Bag of Apples, Royal Gala'], ['$5.99', 'Bag of Spartan Apples']] 24\n"
     ]
    }
   ],
   "source": [
    "len(results)\n",
    "\n",
    "final_result = []\n",
    "for result in results:\n",
    "    price = \"\"\n",
    "    name = \"\"\n",
    "    #print(result)\n",
    "    \n",
    "    try:\n",
    "        price = result.find('span', {'class': 'price-update'}).text\n",
    "    except AttributeError:\n",
    "        # no op\n",
    "        print()\n",
    "    try:\n",
    "        name = result.find('div', {'class' : 'head__title'}).text\n",
    "    except AttributeError:\n",
    "        #no op\n",
    "        print()\n",
    "        \n",
    "    final_result.append([price, name])\n",
    "\n",
    "print(final_result, len(final_result))"
   ]
  }
 ],
 "metadata": {
  "kernelspec": {
   "display_name": "Python 3 (ipykernel)",
   "language": "python",
   "name": "python3"
  },
  "language_info": {
   "codemirror_mode": {
    "name": "ipython",
    "version": 3
   },
   "file_extension": ".py",
   "mimetype": "text/x-python",
   "name": "python",
   "nbconvert_exporter": "python",
   "pygments_lexer": "ipython3",
   "version": "3.9.7"
  }
 },
 "nbformat": 4,
 "nbformat_minor": 5
}
